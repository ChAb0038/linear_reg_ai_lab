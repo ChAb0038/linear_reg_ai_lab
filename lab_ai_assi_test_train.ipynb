{
  "nbformat": 4,
  "nbformat_minor": 0,
  "metadata": {
    "colab": {
      "provenance": [],
      "toc_visible": true,
      "authorship_tag": "ABX9TyMzA9fRX6r9Jr9XMtRWgSB9",
      "include_colab_link": true
    },
    "kernelspec": {
      "name": "python3",
      "display_name": "Python 3"
    },
    "language_info": {
      "name": "python"
    }
  },
  "cells": [
    {
      "cell_type": "markdown",
      "metadata": {
        "id": "view-in-github",
        "colab_type": "text"
      },
      "source": [
        "<a href=\"https://colab.research.google.com/github/ChAb0038/linear_reg_ai_lab/blob/main/lab_ai_assi_test_train.ipynb\" target=\"_parent\"><img src=\"https://colab.research.google.com/assets/colab-badge.svg\" alt=\"Open In Colab\"/></a>"
      ]
    },
    {
      "cell_type": "code",
      "execution_count": 35,
      "metadata": {
        "id": "roxfiIkFak4U"
      },
      "outputs": [],
      "source": [
        "import pandas as pd\n",
        "import numpy as np"
      ]
    },
    {
      "cell_type": "code",
      "source": [
        "data = pd.read_csv(\"train.csv\")"
      ],
      "metadata": {
        "id": "UTXxos8wa-Uf"
      },
      "execution_count": 36,
      "outputs": []
    },
    {
      "cell_type": "code",
      "source": [
        "data"
      ],
      "metadata": {
        "colab": {
          "base_uri": "https://localhost:8080/",
          "height": 485
        },
        "id": "G-WtbpzYbAv5",
        "outputId": "c17e6690-2c12-4d68-c931-565677c01296"
      },
      "execution_count": 37,
      "outputs": [
        {
          "output_type": "execute_result",
          "data": {
            "text/plain": [
              "                    Employee ID Date of Joining  Gender Company Type  \\\n",
              "0      fffe32003000360033003200      2008-09-30  Female      Service   \n",
              "1          fffe3700360033003500      2008-11-30    Male      Service   \n",
              "2      fffe31003300320037003900      2008-03-10  Female      Product   \n",
              "3      fffe32003400380032003900      2008-11-03    Male      Service   \n",
              "4      fffe31003900340031003600      2008-07-24  Female      Service   \n",
              "...                         ...             ...     ...          ...   \n",
              "22745  fffe31003500370039003100      2008-12-30  Female      Service   \n",
              "22746  fffe33003000350031003800      2008-01-19  Female      Product   \n",
              "22747          fffe390032003000      2008-11-05    Male      Service   \n",
              "22748  fffe33003300320036003900      2008-01-10  Female      Service   \n",
              "22749      fffe3400350031003800      2008-01-06    Male      Product   \n",
              "\n",
              "      WFH Setup Available  Designation  Resource Allocation  \\\n",
              "0                      No          2.0                  3.0   \n",
              "1                     Yes          1.0                  2.0   \n",
              "2                     Yes          2.0                  NaN   \n",
              "3                     Yes          1.0                  1.0   \n",
              "4                      No          3.0                  7.0   \n",
              "...                   ...          ...                  ...   \n",
              "22745                  No          1.0                  3.0   \n",
              "22746                 Yes          3.0                  6.0   \n",
              "22747                 Yes          3.0                  7.0   \n",
              "22748                  No          2.0                  5.0   \n",
              "22749                  No          3.0                  6.0   \n",
              "\n",
              "       Mental Fatigue Score  Burn Rate  \n",
              "0                       3.8       0.16  \n",
              "1                       5.0       0.36  \n",
              "2                       5.8       0.49  \n",
              "3                       2.6       0.20  \n",
              "4                       6.9       0.52  \n",
              "...                     ...        ...  \n",
              "22745                   NaN       0.41  \n",
              "22746                   6.7       0.59  \n",
              "22747                   NaN       0.72  \n",
              "22748                   5.9       0.52  \n",
              "22749                   7.8       0.61  \n",
              "\n",
              "[22750 rows x 9 columns]"
            ],
            "text/html": [
              "\n",
              "  <div id=\"df-cd9b309e-89bc-47d4-bd95-e2fdc6648a5b\">\n",
              "    <div class=\"colab-df-container\">\n",
              "      <div>\n",
              "<style scoped>\n",
              "    .dataframe tbody tr th:only-of-type {\n",
              "        vertical-align: middle;\n",
              "    }\n",
              "\n",
              "    .dataframe tbody tr th {\n",
              "        vertical-align: top;\n",
              "    }\n",
              "\n",
              "    .dataframe thead th {\n",
              "        text-align: right;\n",
              "    }\n",
              "</style>\n",
              "<table border=\"1\" class=\"dataframe\">\n",
              "  <thead>\n",
              "    <tr style=\"text-align: right;\">\n",
              "      <th></th>\n",
              "      <th>Employee ID</th>\n",
              "      <th>Date of Joining</th>\n",
              "      <th>Gender</th>\n",
              "      <th>Company Type</th>\n",
              "      <th>WFH Setup Available</th>\n",
              "      <th>Designation</th>\n",
              "      <th>Resource Allocation</th>\n",
              "      <th>Mental Fatigue Score</th>\n",
              "      <th>Burn Rate</th>\n",
              "    </tr>\n",
              "  </thead>\n",
              "  <tbody>\n",
              "    <tr>\n",
              "      <th>0</th>\n",
              "      <td>fffe32003000360033003200</td>\n",
              "      <td>2008-09-30</td>\n",
              "      <td>Female</td>\n",
              "      <td>Service</td>\n",
              "      <td>No</td>\n",
              "      <td>2.0</td>\n",
              "      <td>3.0</td>\n",
              "      <td>3.8</td>\n",
              "      <td>0.16</td>\n",
              "    </tr>\n",
              "    <tr>\n",
              "      <th>1</th>\n",
              "      <td>fffe3700360033003500</td>\n",
              "      <td>2008-11-30</td>\n",
              "      <td>Male</td>\n",
              "      <td>Service</td>\n",
              "      <td>Yes</td>\n",
              "      <td>1.0</td>\n",
              "      <td>2.0</td>\n",
              "      <td>5.0</td>\n",
              "      <td>0.36</td>\n",
              "    </tr>\n",
              "    <tr>\n",
              "      <th>2</th>\n",
              "      <td>fffe31003300320037003900</td>\n",
              "      <td>2008-03-10</td>\n",
              "      <td>Female</td>\n",
              "      <td>Product</td>\n",
              "      <td>Yes</td>\n",
              "      <td>2.0</td>\n",
              "      <td>NaN</td>\n",
              "      <td>5.8</td>\n",
              "      <td>0.49</td>\n",
              "    </tr>\n",
              "    <tr>\n",
              "      <th>3</th>\n",
              "      <td>fffe32003400380032003900</td>\n",
              "      <td>2008-11-03</td>\n",
              "      <td>Male</td>\n",
              "      <td>Service</td>\n",
              "      <td>Yes</td>\n",
              "      <td>1.0</td>\n",
              "      <td>1.0</td>\n",
              "      <td>2.6</td>\n",
              "      <td>0.20</td>\n",
              "    </tr>\n",
              "    <tr>\n",
              "      <th>4</th>\n",
              "      <td>fffe31003900340031003600</td>\n",
              "      <td>2008-07-24</td>\n",
              "      <td>Female</td>\n",
              "      <td>Service</td>\n",
              "      <td>No</td>\n",
              "      <td>3.0</td>\n",
              "      <td>7.0</td>\n",
              "      <td>6.9</td>\n",
              "      <td>0.52</td>\n",
              "    </tr>\n",
              "    <tr>\n",
              "      <th>...</th>\n",
              "      <td>...</td>\n",
              "      <td>...</td>\n",
              "      <td>...</td>\n",
              "      <td>...</td>\n",
              "      <td>...</td>\n",
              "      <td>...</td>\n",
              "      <td>...</td>\n",
              "      <td>...</td>\n",
              "      <td>...</td>\n",
              "    </tr>\n",
              "    <tr>\n",
              "      <th>22745</th>\n",
              "      <td>fffe31003500370039003100</td>\n",
              "      <td>2008-12-30</td>\n",
              "      <td>Female</td>\n",
              "      <td>Service</td>\n",
              "      <td>No</td>\n",
              "      <td>1.0</td>\n",
              "      <td>3.0</td>\n",
              "      <td>NaN</td>\n",
              "      <td>0.41</td>\n",
              "    </tr>\n",
              "    <tr>\n",
              "      <th>22746</th>\n",
              "      <td>fffe33003000350031003800</td>\n",
              "      <td>2008-01-19</td>\n",
              "      <td>Female</td>\n",
              "      <td>Product</td>\n",
              "      <td>Yes</td>\n",
              "      <td>3.0</td>\n",
              "      <td>6.0</td>\n",
              "      <td>6.7</td>\n",
              "      <td>0.59</td>\n",
              "    </tr>\n",
              "    <tr>\n",
              "      <th>22747</th>\n",
              "      <td>fffe390032003000</td>\n",
              "      <td>2008-11-05</td>\n",
              "      <td>Male</td>\n",
              "      <td>Service</td>\n",
              "      <td>Yes</td>\n",
              "      <td>3.0</td>\n",
              "      <td>7.0</td>\n",
              "      <td>NaN</td>\n",
              "      <td>0.72</td>\n",
              "    </tr>\n",
              "    <tr>\n",
              "      <th>22748</th>\n",
              "      <td>fffe33003300320036003900</td>\n",
              "      <td>2008-01-10</td>\n",
              "      <td>Female</td>\n",
              "      <td>Service</td>\n",
              "      <td>No</td>\n",
              "      <td>2.0</td>\n",
              "      <td>5.0</td>\n",
              "      <td>5.9</td>\n",
              "      <td>0.52</td>\n",
              "    </tr>\n",
              "    <tr>\n",
              "      <th>22749</th>\n",
              "      <td>fffe3400350031003800</td>\n",
              "      <td>2008-01-06</td>\n",
              "      <td>Male</td>\n",
              "      <td>Product</td>\n",
              "      <td>No</td>\n",
              "      <td>3.0</td>\n",
              "      <td>6.0</td>\n",
              "      <td>7.8</td>\n",
              "      <td>0.61</td>\n",
              "    </tr>\n",
              "  </tbody>\n",
              "</table>\n",
              "<p>22750 rows × 9 columns</p>\n",
              "</div>\n",
              "      <button class=\"colab-df-convert\" onclick=\"convertToInteractive('df-cd9b309e-89bc-47d4-bd95-e2fdc6648a5b')\"\n",
              "              title=\"Convert this dataframe to an interactive table.\"\n",
              "              style=\"display:none;\">\n",
              "        \n",
              "  <svg xmlns=\"http://www.w3.org/2000/svg\" height=\"24px\"viewBox=\"0 0 24 24\"\n",
              "       width=\"24px\">\n",
              "    <path d=\"M0 0h24v24H0V0z\" fill=\"none\"/>\n",
              "    <path d=\"M18.56 5.44l.94 2.06.94-2.06 2.06-.94-2.06-.94-.94-2.06-.94 2.06-2.06.94zm-11 1L8.5 8.5l.94-2.06 2.06-.94-2.06-.94L8.5 2.5l-.94 2.06-2.06.94zm10 10l.94 2.06.94-2.06 2.06-.94-2.06-.94-.94-2.06-.94 2.06-2.06.94z\"/><path d=\"M17.41 7.96l-1.37-1.37c-.4-.4-.92-.59-1.43-.59-.52 0-1.04.2-1.43.59L10.3 9.45l-7.72 7.72c-.78.78-.78 2.05 0 2.83L4 21.41c.39.39.9.59 1.41.59.51 0 1.02-.2 1.41-.59l7.78-7.78 2.81-2.81c.8-.78.8-2.07 0-2.86zM5.41 20L4 18.59l7.72-7.72 1.47 1.35L5.41 20z\"/>\n",
              "  </svg>\n",
              "      </button>\n",
              "      \n",
              "  <style>\n",
              "    .colab-df-container {\n",
              "      display:flex;\n",
              "      flex-wrap:wrap;\n",
              "      gap: 12px;\n",
              "    }\n",
              "\n",
              "    .colab-df-convert {\n",
              "      background-color: #E8F0FE;\n",
              "      border: none;\n",
              "      border-radius: 50%;\n",
              "      cursor: pointer;\n",
              "      display: none;\n",
              "      fill: #1967D2;\n",
              "      height: 32px;\n",
              "      padding: 0 0 0 0;\n",
              "      width: 32px;\n",
              "    }\n",
              "\n",
              "    .colab-df-convert:hover {\n",
              "      background-color: #E2EBFA;\n",
              "      box-shadow: 0px 1px 2px rgba(60, 64, 67, 0.3), 0px 1px 3px 1px rgba(60, 64, 67, 0.15);\n",
              "      fill: #174EA6;\n",
              "    }\n",
              "\n",
              "    [theme=dark] .colab-df-convert {\n",
              "      background-color: #3B4455;\n",
              "      fill: #D2E3FC;\n",
              "    }\n",
              "\n",
              "    [theme=dark] .colab-df-convert:hover {\n",
              "      background-color: #434B5C;\n",
              "      box-shadow: 0px 1px 3px 1px rgba(0, 0, 0, 0.15);\n",
              "      filter: drop-shadow(0px 1px 2px rgba(0, 0, 0, 0.3));\n",
              "      fill: #FFFFFF;\n",
              "    }\n",
              "  </style>\n",
              "\n",
              "      <script>\n",
              "        const buttonEl =\n",
              "          document.querySelector('#df-cd9b309e-89bc-47d4-bd95-e2fdc6648a5b button.colab-df-convert');\n",
              "        buttonEl.style.display =\n",
              "          google.colab.kernel.accessAllowed ? 'block' : 'none';\n",
              "\n",
              "        async function convertToInteractive(key) {\n",
              "          const element = document.querySelector('#df-cd9b309e-89bc-47d4-bd95-e2fdc6648a5b');\n",
              "          const dataTable =\n",
              "            await google.colab.kernel.invokeFunction('convertToInteractive',\n",
              "                                                     [key], {});\n",
              "          if (!dataTable) return;\n",
              "\n",
              "          const docLinkHtml = 'Like what you see? Visit the ' +\n",
              "            '<a target=\"_blank\" href=https://colab.research.google.com/notebooks/data_table.ipynb>data table notebook</a>'\n",
              "            + ' to learn more about interactive tables.';\n",
              "          element.innerHTML = '';\n",
              "          dataTable['output_type'] = 'display_data';\n",
              "          await google.colab.output.renderOutput(dataTable, element);\n",
              "          const docLink = document.createElement('div');\n",
              "          docLink.innerHTML = docLinkHtml;\n",
              "          element.appendChild(docLink);\n",
              "        }\n",
              "      </script>\n",
              "    </div>\n",
              "  </div>\n",
              "  "
            ]
          },
          "metadata": {},
          "execution_count": 37
        }
      ]
    },
    {
      "cell_type": "code",
      "source": [
        "data.info()"
      ],
      "metadata": {
        "colab": {
          "base_uri": "https://localhost:8080/"
        },
        "id": "DtiRSK28bCRA",
        "outputId": "0a1cab76-f669-4be0-8e07-ab85a02a41ca"
      },
      "execution_count": 38,
      "outputs": [
        {
          "output_type": "stream",
          "name": "stdout",
          "text": [
            "<class 'pandas.core.frame.DataFrame'>\n",
            "RangeIndex: 22750 entries, 0 to 22749\n",
            "Data columns (total 9 columns):\n",
            " #   Column                Non-Null Count  Dtype  \n",
            "---  ------                --------------  -----  \n",
            " 0   Employee ID           22750 non-null  object \n",
            " 1   Date of Joining       22750 non-null  object \n",
            " 2   Gender                22750 non-null  object \n",
            " 3   Company Type          22750 non-null  object \n",
            " 4   WFH Setup Available   22750 non-null  object \n",
            " 5   Designation           22750 non-null  float64\n",
            " 6   Resource Allocation   21369 non-null  float64\n",
            " 7   Mental Fatigue Score  20633 non-null  float64\n",
            " 8   Burn Rate             21626 non-null  float64\n",
            "dtypes: float64(4), object(5)\n",
            "memory usage: 1.6+ MB\n"
          ]
        }
      ]
    },
    {
      "cell_type": "code",
      "source": [
        "X = data.drop(['Designation', 'Resource Allocation', 'Mental Fatigue Score'], axis=1)\n",
        "y = data['Burn Rate']\n",
        "X, y"
      ],
      "metadata": {
        "colab": {
          "base_uri": "https://localhost:8080/"
        },
        "id": "AY4RYCdUbGH6",
        "outputId": "d41bf408-7427-4139-8979-0ffa4d96d50e"
      },
      "execution_count": 39,
      "outputs": [
        {
          "output_type": "execute_result",
          "data": {
            "text/plain": [
              "(                    Employee ID Date of Joining  Gender Company Type  \\\n",
              " 0      fffe32003000360033003200      2008-09-30  Female      Service   \n",
              " 1          fffe3700360033003500      2008-11-30    Male      Service   \n",
              " 2      fffe31003300320037003900      2008-03-10  Female      Product   \n",
              " 3      fffe32003400380032003900      2008-11-03    Male      Service   \n",
              " 4      fffe31003900340031003600      2008-07-24  Female      Service   \n",
              " ...                         ...             ...     ...          ...   \n",
              " 22745  fffe31003500370039003100      2008-12-30  Female      Service   \n",
              " 22746  fffe33003000350031003800      2008-01-19  Female      Product   \n",
              " 22747          fffe390032003000      2008-11-05    Male      Service   \n",
              " 22748  fffe33003300320036003900      2008-01-10  Female      Service   \n",
              " 22749      fffe3400350031003800      2008-01-06    Male      Product   \n",
              " \n",
              "       WFH Setup Available  Burn Rate  \n",
              " 0                      No       0.16  \n",
              " 1                     Yes       0.36  \n",
              " 2                     Yes       0.49  \n",
              " 3                     Yes       0.20  \n",
              " 4                      No       0.52  \n",
              " ...                   ...        ...  \n",
              " 22745                  No       0.41  \n",
              " 22746                 Yes       0.59  \n",
              " 22747                 Yes       0.72  \n",
              " 22748                  No       0.52  \n",
              " 22749                  No       0.61  \n",
              " \n",
              " [22750 rows x 6 columns],\n",
              " 0        0.16\n",
              " 1        0.36\n",
              " 2        0.49\n",
              " 3        0.20\n",
              " 4        0.52\n",
              "          ... \n",
              " 22745    0.41\n",
              " 22746    0.59\n",
              " 22747    0.72\n",
              " 22748    0.52\n",
              " 22749    0.61\n",
              " Name: Burn Rate, Length: 22750, dtype: float64)"
            ]
          },
          "metadata": {},
          "execution_count": 39
        }
      ]
    },
    {
      "cell_type": "code",
      "source": [
        "from sklearn.model_selection import train_test_split\n",
        "X_train, X_test, y_train, y_test = train_test_split(X, y, test_size=0.2)"
      ],
      "metadata": {
        "id": "irYX6N8XbKIa"
      },
      "execution_count": 40,
      "outputs": []
    },
    {
      "cell_type": "code",
      "source": [
        "import matplotlib.pyplot as plt\n",
        "\n",
        "from sklearn.linear_model import LinearRegression\n",
        "\n",
        "# Load the data into a pandas DataFrame\n",
        "data = pd.read_csv('train.csv')\n",
        "\n",
        "\n"
      ],
      "metadata": {
        "id": "th7UXEPShDh9"
      },
      "execution_count": 52,
      "outputs": []
    },
    {
      "cell_type": "code",
      "source": [
        "plt.figure(figsize=(12, 4))\n",
        "\n",
        "features = ['Designation', 'Resource Allocation', 'Mental Fatigue Score']\n",
        "\n",
        "for i, feature in enumerate(features):\n",
        "    plt.scatter(X['Designation'], y, c='blue', alpha=0.5, label='Designation')\n",
        "plt.scatter(X['Resource Allocation'], y, c='red', alpha=0.5, label='Resource Allocation')\n",
        "plt.scatter(X['Mental Fatigue Score'], y, c='black', alpha=0.5, label='Mental Fatigue Score')\n",
        "\n",
        "plt.xlabel('Features')\n",
        "plt.ylabel('Burn Rate')\n",
        "plt.legend()\n",
        "plt.show()\n"
      ],
      "metadata": {
        "colab": {
          "base_uri": "https://localhost:8080/",
          "height": 388
        },
        "id": "nNHzdMuLhEIP",
        "outputId": "fed05600-96c9-497e-9b1e-0f3a39a0ded9"
      },
      "execution_count": 58,
      "outputs": [
        {
          "output_type": "display_data",
          "data": {
            "text/plain": [
              "<Figure size 1200x400 with 1 Axes>"
            ],
            "image/png": "[encoded data removed]"
          },
          "metadata": {}
        }
      ]
    },
    {
      "cell_type": "code",
      "source": [],
      "metadata": {
        "id": "R6RARm4XiR42"
      },
      "execution_count": null,
      "outputs": []
    }
  ]
}